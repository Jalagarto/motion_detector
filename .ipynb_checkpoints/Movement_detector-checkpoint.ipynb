{
 "cells": [
  {
   "cell_type": "code",
   "execution_count": null,
   "metadata": {},
   "outputs": [],
   "source": [
    "from PIL import Image\n",
    "from os.path import join\n",
    "import numpy as np\n",
    "import os"
   ]
  },
  {
   "cell_type": "code",
   "execution_count": null,
   "metadata": {},
   "outputs": [],
   "source": [
    "frames_dir = \"/home/javier/Videos/Webcam/frames\""
   ]
  },
  {
   "cell_type": "code",
   "execution_count": 89,
   "metadata": {},
   "outputs": [],
   "source": [
    "im = Image.open(join(frames_dir,\"frame0.jpg\"))\n",
    "red0, green, blue = im.split()\n",
    "red0_np = np.array(red0, dtype='float')\n",
    "im = Image.open(join(frames_dir,\"frame1.jpg\"))\n",
    "red1, green, blue = im.split()\n",
    "red1_np = np.array(red1, dtype='float')"
   ]
  },
  {
   "cell_type": "code",
   "execution_count": 93,
   "metadata": {},
   "outputs": [
    {
     "data": {
      "text/plain": [
       "3.3302604166666665"
      ]
     },
     "execution_count": 93,
     "metadata": {},
     "output_type": "execute_result"
    }
   ],
   "source": [
    "dif = np.abs(red0_np-red1_np)\n",
    "np.mean(dif)"
   ]
  },
  {
   "cell_type": "code",
   "execution_count": 142,
   "metadata": {},
   "outputs": [],
   "source": [
    "import re\n",
    "\n",
    "def get_numbers(texto):\n",
    "    return int(re.findall(r'[0-9]+', texto)[0])\n",
    "        \n",
    "def sort_list(l):\n",
    "    dicto = {}\n",
    "    for i in l:\n",
    "        dicto[get_numbers(i)] = i\n",
    "    lista = []\n",
    "    for i in sorted(list(dicto.keys())):\n",
    "        lista.append(dicto[i])\n",
    "    return lista\n",
    "\n",
    "\n",
    "frames = sort_list(frames)"
   ]
  },
  {
   "cell_type": "code",
   "execution_count": 151,
   "metadata": {},
   "outputs": [
    {
     "name": "stdout",
     "output_type": "stream",
     "text": [
      "['frame0.jpg', 'frame1.jpg', 'frame2.jpg']\n"
     ]
    },
    {
     "data": {
      "text/plain": [
       "['frame0.jpg',\n",
       " 'frame125.jpg',\n",
       " 'frame126.jpg',\n",
       " 'frame127.jpg',\n",
       " 'frame128.jpg',\n",
       " 'frame129.jpg',\n",
       " 'frame130.jpg',\n",
       " 'frame131.jpg',\n",
       " 'frame132.jpg',\n",
       " 'frame133.jpg',\n",
       " 'frame134.jpg',\n",
       " 'frame135.jpg',\n",
       " 'frame136.jpg',\n",
       " 'frame137.jpg',\n",
       " 'frame146.jpg',\n",
       " 'frame147.jpg',\n",
       " 'frame148.jpg',\n",
       " 'frame149.jpg',\n",
       " 'frame150.jpg',\n",
       " 'frame151.jpg',\n",
       " 'frame152.jpg',\n",
       " 'frame153.jpg',\n",
       " 'frame154.jpg',\n",
       " 'frame155.jpg',\n",
       " 'frame156.jpg',\n",
       " 'frame157.jpg',\n",
       " 'frame158.jpg',\n",
       " 'frame159.jpg',\n",
       " 'frame160.jpg',\n",
       " 'frame161.jpg',\n",
       " 'frame162.jpg',\n",
       " 'frame163.jpg',\n",
       " 'frame167.jpg',\n",
       " 'frame168.jpg',\n",
       " 'frame169.jpg',\n",
       " 'frame170.jpg',\n",
       " 'frame171.jpg',\n",
       " 'frame172.jpg',\n",
       " 'frame173.jpg',\n",
       " 'frame174.jpg',\n",
       " 'frame175.jpg',\n",
       " 'frame176.jpg',\n",
       " 'frame177.jpg',\n",
       " 'frame178.jpg',\n",
       " 'frame179.jpg',\n",
       " 'frame180.jpg',\n",
       " 'frame181.jpg',\n",
       " 'frame182.jpg',\n",
       " 'frame183.jpg',\n",
       " 'frame184.jpg',\n",
       " 'frame185.jpg',\n",
       " 'frame186.jpg',\n",
       " 'frame187.jpg',\n",
       " 'frame188.jpg',\n",
       " 'frame189.jpg',\n",
       " 'frame190.jpg',\n",
       " 'frame191.jpg',\n",
       " 'frame192.jpg',\n",
       " 'frame342.jpg',\n",
       " 'frame343.jpg',\n",
       " 'frame344.jpg',\n",
       " 'frame345.jpg',\n",
       " 'frame346.jpg',\n",
       " 'frame347.jpg',\n",
       " 'frame348.jpg',\n",
       " 'frame349.jpg',\n",
       " 'frame350.jpg',\n",
       " 'frame353.jpg',\n",
       " 'frame354.jpg',\n",
       " 'frame355.jpg',\n",
       " 'frame356.jpg',\n",
       " 'frame357.jpg',\n",
       " 'frame358.jpg',\n",
       " 'frame359.jpg',\n",
       " 'frame360.jpg',\n",
       " 'frame361.jpg',\n",
       " 'frame362.jpg',\n",
       " 'frame363.jpg',\n",
       " 'frame364.jpg',\n",
       " 'frame365.jpg',\n",
       " 'frame366.jpg',\n",
       " 'frame367.jpg',\n",
       " 'frame370.jpg',\n",
       " 'frame371.jpg',\n",
       " 'frame372.jpg',\n",
       " 'frame373.jpg',\n",
       " 'frame374.jpg',\n",
       " 'frame375.jpg',\n",
       " 'frame376.jpg']"
      ]
     },
     "execution_count": 151,
     "metadata": {},
     "output_type": "execute_result"
    }
   ],
   "source": [
    "print(frames[:3])\n",
    "movement = []\n",
    "for f in frames:\n",
    "    im = Image.open(join(frames_dir,f))\n",
    "    red, green, blue = im.split()\n",
    "    red_np = np.array(red, dtype='float')\n",
    "    if \"red_old\" in locals():\n",
    "        dif = np.mean(np.abs(red_old-red_np))\n",
    "        if dif>3.5:\n",
    "            movement.append(f)\n",
    "        red_old = red_np\n",
    "    else:\n",
    "        red_old = red_np\n",
    "movement    "
   ]
  },
  {
   "cell_type": "markdown",
   "metadata": {},
   "source": [
    "Thats all ... save image (all 3 channels RGB) if there is movement... else, don't save it"
   ]
  }
 ],
 "metadata": {
  "kernelspec": {
   "display_name": "Python 3",
   "language": "python",
   "name": "python3"
  },
  "language_info": {
   "codemirror_mode": {
    "name": "ipython",
    "version": 3
   },
   "file_extension": ".py",
   "mimetype": "text/x-python",
   "name": "python",
   "nbconvert_exporter": "python",
   "pygments_lexer": "ipython3",
   "version": "3.8.5"
  }
 },
 "nbformat": 4,
 "nbformat_minor": 4
}
