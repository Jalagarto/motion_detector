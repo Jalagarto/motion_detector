{
 "cells": [
  {
   "cell_type": "code",
   "execution_count": null,
   "metadata": {},
   "outputs": [],
   "source": [
    "from PIL import Image\n",
    "from os.path import join\n",
    "import numpy as np\n",
    "import os\n",
    "\n",
    "frames_dir = \"/home/javier/Videos/Webcam/frames\"\n",
    "\n",
    "im = Image.open(join(frames_dir,\"frame0.jpg\"))\n",
    "red0, green, blue = im.split()\n",
    "red0_np = np.array(red0, dtype='float')\n",
    "im = Image.open(join(frames_dir,\"frame1.jpg\"))\n",
    "red1, green, blue = im.split()\n",
    "red1_np = np.array(red1, dtype='float')\n",
    "\n",
    "dif = np.abs(red0_np-red1_np)\n",
    "np.mean(dif)\n",
    "\n",
    "import re\n",
    "\n",
    "def get_numbers(texto):\n",
    "    return int(re.findall(r'[0-9]+', texto)[0])\n",
    "        \n",
    "def sort_list(l):\n",
    "    dicto = {}\n",
    "    for i in l:\n",
    "        dicto[get_numbers(i)] = i\n",
    "    lista = []\n",
    "    for i in sorted(list(dicto.keys())):\n",
    "        lista.append(dicto[i])\n",
    "    return lista\n",
    "\n",
    "\n",
    "frames = sort_list(frames)\n",
    "\n",
    "print(frames[:3])\n",
    "movement = []\n",
    "for f in frames:\n",
    "    im = Image.open(join(frames_dir,f))\n",
    "    red, green, blue = im.split()\n",
    "    red_np = np.array(red, dtype='float')\n",
    "    if \"red_old\" in locals():\n",
    "        dif = np.mean(np.abs(red_old-red_np))\n",
    "        if dif>3.5:\n",
    "            movement.append(f)\n",
    "        red_old = red_np\n",
    "    else:\n",
    "        red_old = red_np\n",
    "movement    "
   ]
  },
  {
   "cell_type": "markdown",
   "metadata": {},
   "source": [
    "Thats all ... save image (all 3 channels RGB) if there is movement... else, don't save it"
   ]
  }
 ],
 "metadata": {
  "kernelspec": {
   "display_name": "Python 3",
   "language": "python",
   "name": "python3"
  },
  "language_info": {
   "codemirror_mode": {
    "name": "ipython",
    "version": 3
   },
   "file_extension": ".py",
   "mimetype": "text/x-python",
   "name": "python",
   "nbconvert_exporter": "python",
   "pygments_lexer": "ipython3",
   "version": "3.8.5"
  }
 },
 "nbformat": 4,
 "nbformat_minor": 4
}
